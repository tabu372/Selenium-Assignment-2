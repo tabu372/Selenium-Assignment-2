{
 "cells": [
  {
   "cell_type": "markdown",
   "metadata": {},
   "source": [
    "# Webscrapping using Selenium"
   ]
  },
  {
   "cell_type": "markdown",
   "metadata": {},
   "source": [
    "### Task no.1"
   ]
  },
  {
   "cell_type": "code",
   "execution_count": 162,
   "metadata": {},
   "outputs": [
    {
     "name": "stdout",
     "output_type": "stream",
     "text": [
      "Collecting webdriver_manager\n",
      "  Downloading webdriver_manager-3.4.1-py2.py3-none-any.whl (16 kB)\n",
      "Requirement already satisfied: requests in e:\\war\\lib\\site-packages (from webdriver_manager) (2.24.0)\n",
      "Collecting configparser\n",
      "  Downloading configparser-5.0.2-py3-none-any.whl (19 kB)\n",
      "Collecting crayons\n",
      "  Downloading crayons-0.4.0-py2.py3-none-any.whl (4.6 kB)\n",
      "Requirement already satisfied: urllib3!=1.25.0,!=1.25.1,<1.26,>=1.21.1 in e:\\war\\lib\\site-packages (from requests->webdriver_manager) (1.25.11)\n",
      "Requirement already satisfied: idna<3,>=2.5 in e:\\war\\lib\\site-packages (from requests->webdriver_manager) (2.10)\n",
      "Requirement already satisfied: certifi>=2017.4.17 in e:\\war\\lib\\site-packages (from requests->webdriver_manager) (2020.6.20)\n",
      "Requirement already satisfied: chardet<4,>=3.0.2 in e:\\war\\lib\\site-packages (from requests->webdriver_manager) (3.0.4)\n",
      "Requirement already satisfied: colorama in e:\\war\\lib\\site-packages (from crayons->webdriver_manager) (0.4.4)\n",
      "Installing collected packages: configparser, crayons, webdriver-manager\n",
      "Successfully installed configparser-5.0.2 crayons-0.4.0 webdriver-manager-3.4.1\n"
     ]
    }
   ],
   "source": [
    "!pip install webdriver_manager"
   ]
  },
  {
   "cell_type": "code",
   "execution_count": 163,
   "metadata": {},
   "outputs": [],
   "source": [
    "#lets import all the required libariries\n",
    "import selenium\n",
    "import pandas as pd\n",
    "import time\n",
    "from selenium import webdriver\n",
    "import time\n",
    "from selenium.common.exceptions import NoSuchElementException\n",
    "from webdriver_manager.chrome import ChromeDriverManager"
   ]
  },
  {
   "cell_type": "code",
   "execution_count": 80,
   "metadata": {},
   "outputs": [],
   "source": [
    "#lets first connect to the webdriver\n",
    "driver=webdriver.Chrome(r\"C:\\Users\\HP\\Downloads\\chromedriver_win32\\chromedriver.exe\")"
   ]
  },
  {
   "cell_type": "code",
   "execution_count": 81,
   "metadata": {},
   "outputs": [],
   "source": [
    "url='https://www.naukri.com/'\n",
    "driver.get(url)"
   ]
  },
  {
   "cell_type": "code",
   "execution_count": 82,
   "metadata": {},
   "outputs": [
    {
     "data": {
      "text/plain": [
       "<selenium.webdriver.remote.webelement.WebElement (session=\"d43a8e81e43132679ccf53044ac4f313\", element=\"cbe9f5be-5b34-4a5c-959d-5dca0884278b\")>"
      ]
     },
     "execution_count": 82,
     "metadata": {},
     "output_type": "execute_result"
    }
   ],
   "source": [
    "#finding element for job search\n",
    "search_job=driver.find_element_by_id(\"qsb-keyword-sugg\")\n",
    "search_job"
   ]
  },
  {
   "cell_type": "code",
   "execution_count": 83,
   "metadata": {},
   "outputs": [],
   "source": [
    "#write on search bar\n",
    "search_job.send_keys(\"Data Analyst\")"
   ]
  },
  {
   "cell_type": "code",
   "execution_count": 84,
   "metadata": {},
   "outputs": [],
   "source": [
    "#finding elemnt for job location\n",
    "search_loc=driver.find_element_by_id(\"qsb-location-sugg\")\n",
    "search_loc.send_keys(\"Bangalore\")"
   ]
  },
  {
   "cell_type": "code",
   "execution_count": 85,
   "metadata": {},
   "outputs": [],
   "source": [
    "#do click using xpath function\n",
    "search_btn=driver.find_element_by_xpath(\"//button[@class='btn']\")\n",
    "search_btn.click()"
   ]
  },
  {
   "cell_type": "code",
   "execution_count": 86,
   "metadata": {},
   "outputs": [
    {
     "data": {
      "text/plain": [
       "[]"
      ]
     },
     "execution_count": 86,
     "metadata": {},
     "output_type": "execute_result"
    }
   ],
   "source": [
    "# lets scrap the tags having job titles\n",
    "title=driver.find_elements_by_xpath(\"//a[@class='title fw500 ellipsis']\")\n",
    "title"
   ]
  },
  {
   "cell_type": "code",
   "execution_count": 87,
   "metadata": {},
   "outputs": [
    {
     "data": {
      "text/plain": [
       "[]"
      ]
     },
     "execution_count": 87,
     "metadata": {},
     "output_type": "execute_result"
    }
   ],
   "source": [
    "#now we will use the loop function to take only title from the above data\n",
    "job_titles=[]\n",
    "for i in title:\n",
    "    job_titles.append(i.text)\n",
    "job_titles"
   ]
  },
  {
   "cell_type": "code",
   "execution_count": 88,
   "metadata": {},
   "outputs": [
    {
     "data": {
      "text/plain": [
       "[]"
      ]
     },
     "execution_count": 88,
     "metadata": {},
     "output_type": "execute_result"
    }
   ],
   "source": [
    "#now we will extract company name\n",
    "company=driver.find_elements_by_xpath(\"//a[@class='subTitle ellipsis fleft']\")\n",
    "company"
   ]
  },
  {
   "cell_type": "code",
   "execution_count": 89,
   "metadata": {},
   "outputs": [
    {
     "data": {
      "text/plain": [
       "[]"
      ]
     },
     "execution_count": 89,
     "metadata": {},
     "output_type": "execute_result"
    }
   ],
   "source": [
    "company_name=[]\n",
    "for i in company:\n",
    "    company_name.append(i.text)\n",
    "company_name"
   ]
  },
  {
   "cell_type": "code",
   "execution_count": 90,
   "metadata": {},
   "outputs": [
    {
     "data": {
      "text/plain": [
       "[]"
      ]
     },
     "execution_count": 90,
     "metadata": {},
     "output_type": "execute_result"
    }
   ],
   "source": [
    "# so lets extract experience\n",
    "experience=driver.find_elements_by_xpath(\"//li[@class='fleft grey-text br2 placeHolderLi experience']//span\")\n",
    "experience"
   ]
  },
  {
   "cell_type": "code",
   "execution_count": 91,
   "metadata": {},
   "outputs": [
    {
     "data": {
      "text/plain": [
       "[]"
      ]
     },
     "execution_count": 91,
     "metadata": {},
     "output_type": "execute_result"
    }
   ],
   "source": [
    "exp=[]\n",
    "for i in experience:\n",
    "    exp.append(i.text)\n",
    "exp"
   ]
  },
  {
   "cell_type": "code",
   "execution_count": 92,
   "metadata": {},
   "outputs": [
    {
     "data": {
      "text/plain": [
       "[]"
      ]
     },
     "execution_count": 92,
     "metadata": {},
     "output_type": "execute_result"
    }
   ],
   "source": [
    "# lets extract location now\n",
    "location=driver.find_elements_by_xpath(\"//li[@class='fleft grey-text br2 placeHolderLi location']//span\")\n",
    "location"
   ]
  },
  {
   "cell_type": "code",
   "execution_count": 93,
   "metadata": {},
   "outputs": [
    {
     "data": {
      "text/plain": [
       "[]"
      ]
     },
     "execution_count": 93,
     "metadata": {},
     "output_type": "execute_result"
    }
   ],
   "source": [
    "locn=[]\n",
    "for i in location:\n",
    "    locn.append(i.text)\n",
    "locn"
   ]
  },
  {
   "cell_type": "code",
   "execution_count": 94,
   "metadata": {},
   "outputs": [
    {
     "name": "stdout",
     "output_type": "stream",
     "text": [
      "0 0 0 0\n"
     ]
    }
   ],
   "source": [
    "print(len(job_titles),len(company_name),len(exp),len(locn))"
   ]
  },
  {
   "cell_type": "code",
   "execution_count": 95,
   "metadata": {},
   "outputs": [
    {
     "data": {
      "text/html": [
       "<div>\n",
       "<style scoped>\n",
       "    .dataframe tbody tr th:only-of-type {\n",
       "        vertical-align: middle;\n",
       "    }\n",
       "\n",
       "    .dataframe tbody tr th {\n",
       "        vertical-align: top;\n",
       "    }\n",
       "\n",
       "    .dataframe thead th {\n",
       "        text-align: right;\n",
       "    }\n",
       "</style>\n",
       "<table border=\"1\" class=\"dataframe\">\n",
       "  <thead>\n",
       "    <tr style=\"text-align: right;\">\n",
       "      <th></th>\n",
       "      <th>Title</th>\n",
       "      <th>Company</th>\n",
       "      <th>Experience</th>\n",
       "      <th>location</th>\n",
       "    </tr>\n",
       "  </thead>\n",
       "  <tbody>\n",
       "  </tbody>\n",
       "</table>\n",
       "</div>"
      ],
      "text/plain": [
       "Empty DataFrame\n",
       "Columns: [Title, Company, Experience, location]\n",
       "Index: []"
      ]
     },
     "execution_count": 95,
     "metadata": {},
     "output_type": "execute_result"
    }
   ],
   "source": [
    "jobs=pd.DataFrame({})\n",
    "jobs['Title']=job_titles\n",
    "jobs['Company']=company_name\n",
    "jobs['Experience']=exp\n",
    "jobs['location']=locn\n",
    "jobs\n",
    "jobs.head(10)"
   ]
  },
  {
   "cell_type": "markdown",
   "metadata": {},
   "source": [
    "### Task no.2"
   ]
  },
  {
   "cell_type": "code",
   "execution_count": 96,
   "metadata": {},
   "outputs": [],
   "source": [
    "#lets first connect to the webdriver\n",
    "driver=webdriver.Chrome(r\"C:\\Users\\HP\\Downloads\\chromedriver_win32\\chromedriver.exe\")"
   ]
  },
  {
   "cell_type": "code",
   "execution_count": 97,
   "metadata": {},
   "outputs": [],
   "source": [
    "url='https://www.naukri.com/'\n",
    "driver.get(url)"
   ]
  },
  {
   "cell_type": "code",
   "execution_count": 98,
   "metadata": {},
   "outputs": [
    {
     "data": {
      "text/plain": [
       "<selenium.webdriver.remote.webelement.WebElement (session=\"9cd8b8e924cec49e9478a046cb79734d\", element=\"d80fd56e-8c34-447f-abb1-26b076963e56\")>"
      ]
     },
     "execution_count": 98,
     "metadata": {},
     "output_type": "execute_result"
    }
   ],
   "source": [
    "#finding element for job search\n",
    "search=driver.find_element_by_id(\"qsb-keyword-sugg\")\n",
    "search"
   ]
  },
  {
   "cell_type": "code",
   "execution_count": 99,
   "metadata": {},
   "outputs": [],
   "source": [
    "#write on search bar\n",
    "search.send_keys(\"Data scientist\")"
   ]
  },
  {
   "cell_type": "code",
   "execution_count": 100,
   "metadata": {},
   "outputs": [],
   "source": [
    "#finding elemnt for job location\n",
    "location=driver.find_element_by_id(\"qsb-location-sugg\")\n",
    "location.send_keys(\"Banglore\")"
   ]
  },
  {
   "cell_type": "code",
   "execution_count": 101,
   "metadata": {},
   "outputs": [],
   "source": [
    "#do click using xpath function\n",
    "button=driver.find_element_by_xpath(\"//button[@class='btn']\")\n",
    "button.click()"
   ]
  },
  {
   "cell_type": "code",
   "execution_count": 102,
   "metadata": {},
   "outputs": [
    {
     "data": {
      "text/plain": [
       "[]"
      ]
     },
     "execution_count": 102,
     "metadata": {},
     "output_type": "execute_result"
    }
   ],
   "source": [
    "# lets scrap the tags having job titles\n",
    "title=driver.find_elements_by_xpath(\"//a[@class='title fw500 ellipsis']\")\n",
    "title"
   ]
  },
  {
   "cell_type": "code",
   "execution_count": 103,
   "metadata": {},
   "outputs": [
    {
     "data": {
      "text/plain": [
       "[]"
      ]
     },
     "execution_count": 103,
     "metadata": {},
     "output_type": "execute_result"
    }
   ],
   "source": [
    "#now we will use the loop function to take only title from the above data\n",
    "job_titles=[]\n",
    "for i in title:\n",
    "    job_titles.append(i.text)\n",
    "job_titles"
   ]
  },
  {
   "cell_type": "code",
   "execution_count": 104,
   "metadata": {},
   "outputs": [
    {
     "data": {
      "text/plain": [
       "[]"
      ]
     },
     "execution_count": 104,
     "metadata": {},
     "output_type": "execute_result"
    }
   ],
   "source": [
    "#now we will extract company name\n",
    "company=driver.find_elements_by_xpath(\"//a[@class='subTitle ellipsis fleft']\")\n",
    "company"
   ]
  },
  {
   "cell_type": "code",
   "execution_count": 105,
   "metadata": {},
   "outputs": [
    {
     "data": {
      "text/plain": [
       "[]"
      ]
     },
     "execution_count": 105,
     "metadata": {},
     "output_type": "execute_result"
    }
   ],
   "source": [
    "company_name=[]\n",
    "for i in company:\n",
    "    company_name.append(i.text)\n",
    "company_name"
   ]
  },
  {
   "cell_type": "code",
   "execution_count": 106,
   "metadata": {},
   "outputs": [
    {
     "data": {
      "text/plain": [
       "[]"
      ]
     },
     "execution_count": 106,
     "metadata": {},
     "output_type": "execute_result"
    }
   ],
   "source": [
    "# lets extract location now\n",
    "location=driver.find_elements_by_xpath(\"//li[@class='fleft grey-text br2 placeHolderLi location']//span\")\n",
    "location"
   ]
  },
  {
   "cell_type": "code",
   "execution_count": 107,
   "metadata": {},
   "outputs": [
    {
     "data": {
      "text/plain": [
       "[]"
      ]
     },
     "execution_count": 107,
     "metadata": {},
     "output_type": "execute_result"
    }
   ],
   "source": [
    "locn=[]\n",
    "for i in location:\n",
    "    locn.append(i.text)\n",
    "locn"
   ]
  },
  {
   "cell_type": "code",
   "execution_count": 108,
   "metadata": {},
   "outputs": [],
   "source": [
    "urls=[]\n",
    "for i in driver.find_elements_by_xpath(\"//a[@class='title fw500 ellipsis']\"):\n",
    "    urls.append(i.get_attribute(\"href\"))"
   ]
  },
  {
   "cell_type": "code",
   "execution_count": 109,
   "metadata": {},
   "outputs": [
    {
     "data": {
      "text/plain": [
       "[]"
      ]
     },
     "execution_count": 109,
     "metadata": {},
     "output_type": "execute_result"
    }
   ],
   "source": [
    "urls"
   ]
  },
  {
   "cell_type": "code",
   "execution_count": 110,
   "metadata": {},
   "outputs": [],
   "source": [
    "job_description=[]\n",
    "for i in urls:\n",
    "    driver.get(i)\n",
    "    time.sleep(3)\n",
    "    try:\n",
    "        desc=driver.find_element_by_xpath(\"//section[@class='job-desc']\")\n",
    "        job_description.append(desc.text)\n",
    "    except NoSuchElementException:\n",
    "        job_description.append('-')"
   ]
  },
  {
   "cell_type": "code",
   "execution_count": 111,
   "metadata": {},
   "outputs": [
    {
     "name": "stdout",
     "output_type": "stream",
     "text": [
      "0 0 0 0\n"
     ]
    }
   ],
   "source": [
    "print(len(job_titles),len(company_name),len(job_description),len(locn))"
   ]
  },
  {
   "cell_type": "code",
   "execution_count": 112,
   "metadata": {},
   "outputs": [
    {
     "data": {
      "text/html": [
       "<div>\n",
       "<style scoped>\n",
       "    .dataframe tbody tr th:only-of-type {\n",
       "        vertical-align: middle;\n",
       "    }\n",
       "\n",
       "    .dataframe tbody tr th {\n",
       "        vertical-align: top;\n",
       "    }\n",
       "\n",
       "    .dataframe thead th {\n",
       "        text-align: right;\n",
       "    }\n",
       "</style>\n",
       "<table border=\"1\" class=\"dataframe\">\n",
       "  <thead>\n",
       "    <tr style=\"text-align: right;\">\n",
       "      <th></th>\n",
       "      <th>Title</th>\n",
       "      <th>Company</th>\n",
       "      <th>description</th>\n",
       "      <th>location</th>\n",
       "    </tr>\n",
       "  </thead>\n",
       "  <tbody>\n",
       "  </tbody>\n",
       "</table>\n",
       "</div>"
      ],
      "text/plain": [
       "Empty DataFrame\n",
       "Columns: [Title, Company, description, location]\n",
       "Index: []"
      ]
     },
     "execution_count": 112,
     "metadata": {},
     "output_type": "execute_result"
    }
   ],
   "source": [
    "jobs=pd.DataFrame({})\n",
    "jobs['Title']=job_titles\n",
    "jobs['Company']=company_name\n",
    "jobs['description']=job_description\n",
    "jobs['location']=locn\n",
    "jobs.head(10)"
   ]
  },
  {
   "cell_type": "markdown",
   "metadata": {},
   "source": [
    "# Task no.3"
   ]
  },
  {
   "cell_type": "code",
   "execution_count": 113,
   "metadata": {},
   "outputs": [],
   "source": [
    "#lets first connect to the webdriver\n",
    "driver=webdriver.Chrome(r\"C:\\Users\\HP\\Downloads\\chromedriver_win32\\chromedriver.exe\")"
   ]
  },
  {
   "cell_type": "code",
   "execution_count": 114,
   "metadata": {},
   "outputs": [],
   "source": [
    "url='https://www.naukri.com/'\n",
    "driver.get(url)"
   ]
  },
  {
   "cell_type": "code",
   "execution_count": 115,
   "metadata": {},
   "outputs": [
    {
     "data": {
      "text/plain": [
       "<selenium.webdriver.remote.webelement.WebElement (session=\"44063cca157887c237bf67016324a475\", element=\"cbde6cf6-7df1-4823-9ffd-862450e61cc5\")>"
      ]
     },
     "execution_count": 115,
     "metadata": {},
     "output_type": "execute_result"
    }
   ],
   "source": [
    "#finding element for job search\n",
    "search_job=driver.find_element_by_id(\"qsb-keyword-sugg\")\n",
    "search_job"
   ]
  },
  {
   "cell_type": "code",
   "execution_count": 116,
   "metadata": {},
   "outputs": [],
   "source": [
    "#write on search bar\n",
    "search_job.send_keys(\"Data scientist\")"
   ]
  },
  {
   "cell_type": "code",
   "execution_count": 117,
   "metadata": {},
   "outputs": [],
   "source": [
    "#do click using xpath function\n",
    "search_btn=driver.find_element_by_xpath(\"//button[@class='btn']\")\n",
    "search_btn.click()"
   ]
  },
  {
   "cell_type": "code",
   "execution_count": null,
   "metadata": {},
   "outputs": [],
   "source": [
    "#Now we have to use filter for location\n",
    "location=driver.find_element_by_xpath(\"//span[text()='Delhi / NCR']\")\n",
    "location.click()"
   ]
  },
  {
   "cell_type": "code",
   "execution_count": null,
   "metadata": {},
   "outputs": [],
   "source": [
    "#Now we have to use filter slary 3-6L\n",
    "Salary=driver.find_element_by_xpath(\"//span[text()='3-6 Lakhs']\")\n",
    "Salary.click()"
   ]
  },
  {
   "cell_type": "code",
   "execution_count": null,
   "metadata": {},
   "outputs": [],
   "source": [
    "# lets scrap the tags having job titles\n",
    "title=driver.find_elements_by_xpath(\"//a[@class='title fw500 ellipsis']\")\n",
    "title"
   ]
  },
  {
   "cell_type": "code",
   "execution_count": null,
   "metadata": {},
   "outputs": [],
   "source": [
    "#now we will use the loop function to take only title from the above data\n",
    "job_titles=[]\n",
    "for i in title:\n",
    "    job_titles.append(i.text)\n",
    "job_titles"
   ]
  },
  {
   "cell_type": "code",
   "execution_count": null,
   "metadata": {},
   "outputs": [],
   "source": [
    "#now we will extract company name\n",
    "company=driver.find_elements_by_xpath(\"//a[@class='subTitle ellipsis fleft']\")\n",
    "company"
   ]
  },
  {
   "cell_type": "code",
   "execution_count": null,
   "metadata": {},
   "outputs": [],
   "source": [
    "company_name=[]\n",
    "for i in company:\n",
    "    company_name.append(i.text)\n",
    "company_name"
   ]
  },
  {
   "cell_type": "code",
   "execution_count": null,
   "metadata": {},
   "outputs": [],
   "source": [
    "# so lets extract experience\n",
    "experience=driver.find_elements_by_xpath(\"//li[@class='fleft grey-text br2 placeHolderLi experience']//span\")\n",
    "experience"
   ]
  },
  {
   "cell_type": "code",
   "execution_count": null,
   "metadata": {},
   "outputs": [],
   "source": [
    "exp=[]\n",
    "for i in experience:\n",
    "    exp.append(i.text)\n",
    "exp"
   ]
  },
  {
   "cell_type": "code",
   "execution_count": null,
   "metadata": {},
   "outputs": [],
   "source": [
    "# lets extract location now\n",
    "location=driver.find_elements_by_xpath(\"//li[@class='fleft grey-text br2 placeHolderLi location']//span\")\n",
    "location"
   ]
  },
  {
   "cell_type": "code",
   "execution_count": null,
   "metadata": {},
   "outputs": [],
   "source": [
    "locn=[]\n",
    "for i in location:\n",
    "    locn.append(i.text)\n",
    "locn"
   ]
  },
  {
   "cell_type": "code",
   "execution_count": null,
   "metadata": {},
   "outputs": [],
   "source": [
    "print(len(job_titles),len(company_name),len(exp),len(locn))"
   ]
  },
  {
   "cell_type": "code",
   "execution_count": null,
   "metadata": {},
   "outputs": [],
   "source": [
    "jobs=pd.DataFrame({})\n",
    "jobs['Title']=job_titles\n",
    "jobs['Company']=company_name\n",
    "jobs['Experience']=exp\n",
    "jobs['location']=locn\n",
    "jobs.head(10)"
   ]
  },
  {
   "cell_type": "markdown",
   "metadata": {},
   "source": [
    "# Task no.4"
   ]
  },
  {
   "cell_type": "code",
   "execution_count": null,
   "metadata": {},
   "outputs": [],
   "source": [
    "#lets first connect to the webdriver\n",
    "driver=webdriver.Chrome(r\"C:\\Users\\HP\\Downloads\\chromedriver_win32\\chromedriver.exe\")"
   ]
  },
  {
   "cell_type": "code",
   "execution_count": null,
   "metadata": {},
   "outputs": [],
   "source": [
    "url= 'https://www.glassdoor.co.in/index.htm'\n",
    "driver.get(url)"
   ]
  },
  {
   "cell_type": "code",
   "execution_count": null,
   "metadata": {},
   "outputs": [],
   "source": [
    "driver.find_element_by_xpath(\"//*[@id='SearchForm']/div[2]/div/span/span\").click()"
   ]
  },
  {
   "cell_type": "code",
   "execution_count": null,
   "metadata": {},
   "outputs": [],
   "source": [
    "#finding element for job search\n",
    "search_job=driver.find_element_by_id(\"scKeyword\")\n",
    "search_job"
   ]
  },
  {
   "cell_type": "code",
   "execution_count": null,
   "metadata": {},
   "outputs": [],
   "source": [
    "#write on search bar\n",
    "search_job.send_keys(\"Data scientist\")"
   ]
  },
  {
   "cell_type": "code",
   "execution_count": null,
   "metadata": {},
   "outputs": [],
   "source": [
    "#finding elemnt for job location\n",
    "search_loc=driver.find_element_by_id(\"scLocation\")\n",
    "search_loc.clear()\n",
    "search_loc.send_keys(\"Noida\")"
   ]
  },
  {
   "cell_type": "code",
   "execution_count": null,
   "metadata": {},
   "outputs": [],
   "source": [
    "#do click using xpath function\n",
    "driver.find_element_by_xpath(\"//*[@id='sc']/div[2]/div[1]/button/span\").click()"
   ]
  },
  {
   "cell_type": "code",
   "execution_count": null,
   "metadata": {},
   "outputs": [],
   "source": [
    "# lets scrap the tags having company name\n",
    "name=driver.find_elements_by_xpath(\"//div[@class='d-flex justify-content-between align-items-start']\")\n",
    "name"
   ]
  },
  {
   "cell_type": "code",
   "execution_count": null,
   "metadata": {},
   "outputs": [],
   "source": [
    "#now we will use the loop function to take only title from the above data\n",
    "company_name=[]\n",
    "for i in name[:10]:\n",
    "    company_name.append(i.text)\n",
    "company_name"
   ]
  },
  {
   "cell_type": "code",
   "execution_count": null,
   "metadata": {},
   "outputs": [],
   "source": [
    "# no. of days ago job posted\n",
    "posted=driver.find_elements_by_xpath(\"//div[@class='d-flex align-items-end pl-std css-mi55ob']\")\n",
    "posted"
   ]
  },
  {
   "cell_type": "code",
   "execution_count": null,
   "metadata": {},
   "outputs": [],
   "source": [
    "#now we will use the loop function to take only title from the above data\n",
    "job_posted=[]\n",
    "for i in posted[:10]:\n",
    "    job_posted.append(i.text)\n",
    "job_posted"
   ]
  },
  {
   "cell_type": "code",
   "execution_count": null,
   "metadata": {},
   "outputs": [],
   "source": [
    "rating=driver.find_elements_by_xpath(\"//span[@class='css-19pjha7 e1cjmv6j1']\")\n",
    "rating"
   ]
  },
  {
   "cell_type": "code",
   "execution_count": null,
   "metadata": {},
   "outputs": [],
   "source": [
    "#now we will use the loop function to take only title from the above data\n",
    "company_rating=[]\n",
    "for i in rating[:10]:\n",
    "    company_rating.append(i.text)\n",
    "company_rating"
   ]
  },
  {
   "cell_type": "code",
   "execution_count": null,
   "metadata": {},
   "outputs": [],
   "source": [
    "print(len(company_name),len(job_posted),len(company_rating))"
   ]
  },
  {
   "cell_type": "code",
   "execution_count": null,
   "metadata": {},
   "outputs": [],
   "source": [
    "jobs=pd.DataFrame({})\n",
    "jobs['Name']=company_name\n",
    "jobs['Job_posted']=job_posted\n",
    "jobs['Rating']=company_rating\n",
    "jobs"
   ]
  },
  {
   "cell_type": "markdown",
   "metadata": {},
   "source": [
    "# Task no.5"
   ]
  },
  {
   "cell_type": "code",
   "execution_count": null,
   "metadata": {},
   "outputs": [],
   "source": [
    "#lets first connect to the webdriver\n",
    "driver=webdriver.Chrome(r\"C:\\Users\\HP\\Downloads\\chromedriver_win32\\chromedriver.exe\")"
   ]
  },
  {
   "cell_type": "code",
   "execution_count": null,
   "metadata": {},
   "outputs": [],
   "source": [
    "url='https://www.glassdoor.co.in/Salaries/index.htm'\n",
    "driver.get(url)"
   ]
  },
  {
   "cell_type": "code",
   "execution_count": null,
   "metadata": {},
   "outputs": [],
   "source": [
    "#finding element for job search\n",
    "search_job=driver.find_element_by_id(\"KeywordSearch\")\n",
    "search_job"
   ]
  },
  {
   "cell_type": "code",
   "execution_count": null,
   "metadata": {},
   "outputs": [],
   "source": [
    "#write on search bar\n",
    "search_job.send_keys(\"Data scientist\")"
   ]
  },
  {
   "cell_type": "code",
   "execution_count": null,
   "metadata": {},
   "outputs": [],
   "source": [
    "#finding elemnt for job location\n",
    "search_loc=driver.find_element_by_id(\"LocationSearch\")\n",
    "search_loc.clear()\n",
    "search_loc.send_keys(\"Noida\")"
   ]
  },
  {
   "cell_type": "code",
   "execution_count": null,
   "metadata": {},
   "outputs": [],
   "source": [
    "#do click using xpath function\n",
    "search_btn=driver.find_element_by_xpath(\"//*[@id='HeroSearchButton']\")\n",
    "search_btn.click()"
   ]
  },
  {
   "cell_type": "code",
   "execution_count": null,
   "metadata": {},
   "outputs": [],
   "source": [
    "urls=[]\n",
    "for i in driver.find_elements_by_xpath(\"//*[@id='SalariesByCompany']\"):\n",
    "    urls.append(i.get_attribute(\"href\"))"
   ]
  },
  {
   "cell_type": "code",
   "execution_count": null,
   "metadata": {},
   "outputs": [],
   "source": [
    "urls"
   ]
  },
  {
   "cell_type": "code",
   "execution_count": null,
   "metadata": {},
   "outputs": [],
   "source": []
  },
  {
   "cell_type": "markdown",
   "metadata": {},
   "source": [
    "# Task no.6"
   ]
  },
  {
   "cell_type": "code",
   "execution_count": 147,
   "metadata": {},
   "outputs": [],
   "source": [
    "#lets first connect to the webdriver\n",
    "driver=webdriver.Chrome(r\"C:\\Users\\HP\\Downloads\\chromedriver_win32\\chromedriver.exe\")"
   ]
  },
  {
   "cell_type": "code",
   "execution_count": 148,
   "metadata": {},
   "outputs": [],
   "source": [
    "url='https://www.flipkart.com/'\n",
    "driver.get(url) "
   ]
  },
  {
   "cell_type": "code",
   "execution_count": null,
   "metadata": {},
   "outputs": [],
   "source": [
    "# Removing the popup\n",
    "pp=driver.find_element_by_xpath(\"/html/body/div[2]/div/div/button\")\n",
    "pp.click()"
   ]
  },
  {
   "cell_type": "code",
   "execution_count": null,
   "metadata": {},
   "outputs": [],
   "source": [
    "#finding element forom filpkart\n",
    "search=driver.find_element_by_xpath(\"//*[@id='container']/div/div[1]/div[1]/div[2]/div[2]/form/div/div/input\")\n",
    "search"
   ]
  },
  {
   "cell_type": "code",
   "execution_count": null,
   "metadata": {},
   "outputs": [],
   "source": [
    "#write on search bar\n",
    "search.send_keys(\"sunglasses \")"
   ]
  },
  {
   "cell_type": "code",
   "execution_count": null,
   "metadata": {},
   "outputs": [],
   "source": [
    "#do click using xpath function\n",
    "search=driver.find_element_by_xpath(\"//*[@id='container']/div/div[1]/div[1]/div[2]/div[2]/form/div/button\")\n",
    "search.click()"
   ]
  },
  {
   "cell_type": "code",
   "execution_count": 155,
   "metadata": {},
   "outputs": [],
   "source": [
    "# lets scrap the tags\n",
    "Glasses=[]\n",
    "for page in range(1,3,1):\n",
    "    brand=driver.find_elements_by_xpath(\"//div[@class='_2WkVRV']\")\n",
    "    price=driver.find_elements_by_xpath(\"//div[@class='_30jeq3']\")\n",
    "    discount=driver.find_elements_by_xpath(\"//div[@class='_3Ay6Sb']\")\n",
    "    description=driver.find_elements_by_xpath(\"//a[@class='IRpwTa']\")"
   ]
  },
  {
   "cell_type": "code",
   "execution_count": 171,
   "metadata": {},
   "outputs": [],
   "source": [
    "Glasses=[]\n",
    "for page in range(1, 3, 1):\n",
    "    \n",
    "    page_url= 'https://www.flipkart.com/search?q=sunglasses&sid=26x&as=on&as-show=on&otracker=AS_QueryStore_OrganicAutoSuggest_1_8_na_na_na&otracker1=AS_QueryStore_OrganicAutoSuggest_1_8_na_na_na&as-pos=1&as-type=RECENT&suggestionId=sunglasses%7CSunglasses&requestId=ee397525-e248-4618-96ff-25449b3e0f5e&as-searchtext=sunglass'\n",
    "      \n",
    "    driver.get(page_url)\n",
    "    brand=driver.find_elements_by_xpath(\"//div[@class='_2WkVRV']\")\n",
    "    price=driver.find_elements_by_xpath(\"//div[@class='_30jeq3']\")\n",
    "    discount=driver.find_elements_by_xpath(\"//div[@class='_3Ay6Sb']\")\n",
    "    description=driver.find_elements_by_xpath(\"//a[@class='IRpwTa']\")\n",
    "    "
   ]
  },
  {
   "cell_type": "code",
   "execution_count": 173,
   "metadata": {},
   "outputs": [
    {
     "name": "stdout",
     "output_type": "stream",
     "text": [
      "[['Fastrack', '₹758', 'UV Protection Wayfarer Sunglasses (Free Size)'], ['Fastrack', '₹630', 'UV Protection Rectangular Sunglasses (Free Size)'], ['ROZZETTA CRAFT', '₹499', 'UV Protection Retro Square Sunglasses (Free Size)'], ['PHENOMENAL', '₹399', 'UV Protection Retro Square Sunglasses (Free Size)'], ['Fastrack', '₹621', 'Gradient, UV Protection Wayfarer Sunglasses (Free Size)'], ['ROZZETTA CRAFT', '₹404', 'UV Protection, Gradient Rectangular Sunglasses (Free Si...'], ['Fastrack', '₹733', 'UV Protection Wayfarer Sunglasses (Free Size)'], ['PIRASO', '₹349', 'UV Protection Aviator Sunglasses (Free Size)'], ['DEIXELS', '₹202', 'UV Protection Aviator, Wayfarer Sunglasses (Free Size)'], ['ROZZETTA CRAFT', '₹449', 'UV Protection, Riding Glasses Rectangular Sunglasses (F...'], ['GANSTA', '₹281', 'UV Protection Aviator Sunglasses (57)'], ['Fastrack', '₹674', 'UV Protection Aviator Sunglasses (Free Size)'], ['PHENOMENAL', '₹399', 'UV Protection, Mirrored Retro Square Sunglasses (53)'], ['Singco India', '₹339', 'UV Protection Aviator Sunglasses (Free Size)'], ['HIPPON', '₹251', 'UV Protection Wayfarer Sunglasses (55)'], ['DEIXELS', '₹189', 'UV Protection Round Sunglasses (Free Size)'], ['Villain', '₹599', 'Others Retro Square Sunglasses (Free Size)'], ['Fastrack', '₹1,085', 'UV Protection Aviator Sunglasses (58)'], ['Fastrack', '₹759', 'UV Protection Wayfarer Sunglasses (56)'], ['NuVew', '₹215', 'UV Protection Aviator Sunglasses (58)'], ['ROZZETTA CRAFT', '₹499', 'UV Protection Shield Sunglasses (54)'], ['ROZZETTA CRAFT', '₹499', 'UV Protection Retro Square Sunglasses (Free Size)'], ['ROYAL SON', '₹379', 'Mirrored Aviator Sunglasses (55)'], ['Fastrack', '₹1,123', 'UV Protection Aviator Sunglasses (58)'], ['ROYAL SON', '₹474', 'UV Protection Rectangular Sunglasses (58)'], ['Fastrack', '₹758', 'UV Protection Wayfarer Sunglasses (Free Size)'], ['ROZZETTA CRAFT', '₹499', 'UV Protection, Gradient Rectangular Sunglasses (Free Si...'], ['GANSTA', '₹260', 'UV Protection, Riding Glasses Wayfarer Sunglasses (53)'], ['Fastrack', '₹838', 'UV Protection Wayfarer Sunglasses (Free Size)'], ['PHENOMENAL', '₹319', 'UV Protection, Mirrored Clubmaster Sunglasses (Free Siz...'], ['Fastrack', '₹758', 'UV Protection Wayfarer Sunglasses (Free Size)'], ['Fastrack', '₹630', 'UV Protection Rectangular Sunglasses (Free Size)'], ['ROZZETTA CRAFT', '₹499', 'UV Protection Retro Square Sunglasses (Free Size)'], ['PHENOMENAL', '₹399', 'UV Protection Retro Square Sunglasses (Free Size)'], ['Fastrack', '₹621', 'Gradient, UV Protection Wayfarer Sunglasses (Free Size)'], ['ROZZETTA CRAFT', '₹404', 'UV Protection, Gradient Rectangular Sunglasses (Free Si...'], ['Fastrack', '₹733', 'UV Protection Wayfarer Sunglasses (Free Size)'], ['PIRASO', '₹349', 'UV Protection Aviator Sunglasses (Free Size)'], ['DEIXELS', '₹202', 'UV Protection Aviator, Wayfarer Sunglasses (Free Size)'], ['ROZZETTA CRAFT', '₹449', 'UV Protection, Riding Glasses Rectangular Sunglasses (F...'], ['GANSTA', '₹281', 'UV Protection Aviator Sunglasses (57)'], ['Fastrack', '₹674', 'UV Protection Aviator Sunglasses (Free Size)'], ['PHENOMENAL', '₹399', 'UV Protection, Mirrored Retro Square Sunglasses (53)'], ['Singco India', '₹339', 'UV Protection Aviator Sunglasses (Free Size)'], ['HIPPON', '₹251', 'UV Protection Wayfarer Sunglasses (55)'], ['DEIXELS', '₹189', 'UV Protection Round Sunglasses (Free Size)'], ['Villain', '₹599', 'Others Retro Square Sunglasses (Free Size)'], ['Fastrack', '₹1,085', 'UV Protection Aviator Sunglasses (58)'], ['Fastrack', '₹759', 'UV Protection Wayfarer Sunglasses (56)'], ['NuVew', '₹215', 'UV Protection Aviator Sunglasses (58)'], ['ROZZETTA CRAFT', '₹499', 'UV Protection Shield Sunglasses (54)'], ['ROZZETTA CRAFT', '₹499', 'UV Protection Retro Square Sunglasses (Free Size)'], ['ROYAL SON', '₹379', 'Mirrored Aviator Sunglasses (55)'], ['Fastrack', '₹1,123', 'UV Protection Aviator Sunglasses (58)'], ['ROYAL SON', '₹474', 'UV Protection Rectangular Sunglasses (58)'], ['Fastrack', '₹758', 'UV Protection Wayfarer Sunglasses (Free Size)'], ['ROZZETTA CRAFT', '₹499', 'UV Protection, Gradient Rectangular Sunglasses (Free Si...'], ['GANSTA', '₹260', 'UV Protection, Riding Glasses Wayfarer Sunglasses (53)'], ['Fastrack', '₹838', 'UV Protection Wayfarer Sunglasses (Free Size)'], ['PHENOMENAL', '₹319', 'UV Protection, Mirrored Clubmaster Sunglasses (Free Siz...']]\n"
     ]
    }
   ],
   "source": [
    "for i in range(len(title)):\n",
    "        Glasses.append([brand[i].text, price[i].text, description[i].text])\n",
    "print(Glasses)"
   ]
  },
  {
   "cell_type": "code",
   "execution_count": 174,
   "metadata": {},
   "outputs": [
    {
     "data": {
      "text/html": [
       "<div>\n",
       "<style scoped>\n",
       "    .dataframe tbody tr th:only-of-type {\n",
       "        vertical-align: middle;\n",
       "    }\n",
       "\n",
       "    .dataframe tbody tr th {\n",
       "        vertical-align: top;\n",
       "    }\n",
       "\n",
       "    .dataframe thead th {\n",
       "        text-align: right;\n",
       "    }\n",
       "</style>\n",
       "<table border=\"1\" class=\"dataframe\">\n",
       "  <thead>\n",
       "    <tr style=\"text-align: right;\">\n",
       "      <th></th>\n",
       "      <th>Brand</th>\n",
       "      <th>Price</th>\n",
       "      <th>Description</th>\n",
       "    </tr>\n",
       "  </thead>\n",
       "  <tbody>\n",
       "    <tr>\n",
       "      <th>0</th>\n",
       "      <td>&lt;selenium.webdriver.remote.webelement.WebEleme...</td>\n",
       "      <td>&lt;selenium.webdriver.remote.webelement.WebEleme...</td>\n",
       "      <td>&lt;selenium.webdriver.remote.webelement.WebEleme...</td>\n",
       "    </tr>\n",
       "    <tr>\n",
       "      <th>1</th>\n",
       "      <td>&lt;selenium.webdriver.remote.webelement.WebEleme...</td>\n",
       "      <td>&lt;selenium.webdriver.remote.webelement.WebEleme...</td>\n",
       "      <td>&lt;selenium.webdriver.remote.webelement.WebEleme...</td>\n",
       "    </tr>\n",
       "    <tr>\n",
       "      <th>2</th>\n",
       "      <td>&lt;selenium.webdriver.remote.webelement.WebEleme...</td>\n",
       "      <td>&lt;selenium.webdriver.remote.webelement.WebEleme...</td>\n",
       "      <td>&lt;selenium.webdriver.remote.webelement.WebEleme...</td>\n",
       "    </tr>\n",
       "    <tr>\n",
       "      <th>3</th>\n",
       "      <td>&lt;selenium.webdriver.remote.webelement.WebEleme...</td>\n",
       "      <td>&lt;selenium.webdriver.remote.webelement.WebEleme...</td>\n",
       "      <td>&lt;selenium.webdriver.remote.webelement.WebEleme...</td>\n",
       "    </tr>\n",
       "    <tr>\n",
       "      <th>4</th>\n",
       "      <td>&lt;selenium.webdriver.remote.webelement.WebEleme...</td>\n",
       "      <td>&lt;selenium.webdriver.remote.webelement.WebEleme...</td>\n",
       "      <td>&lt;selenium.webdriver.remote.webelement.WebEleme...</td>\n",
       "    </tr>\n",
       "    <tr>\n",
       "      <th>5</th>\n",
       "      <td>&lt;selenium.webdriver.remote.webelement.WebEleme...</td>\n",
       "      <td>&lt;selenium.webdriver.remote.webelement.WebEleme...</td>\n",
       "      <td>&lt;selenium.webdriver.remote.webelement.WebEleme...</td>\n",
       "    </tr>\n",
       "    <tr>\n",
       "      <th>6</th>\n",
       "      <td>&lt;selenium.webdriver.remote.webelement.WebEleme...</td>\n",
       "      <td>&lt;selenium.webdriver.remote.webelement.WebEleme...</td>\n",
       "      <td>&lt;selenium.webdriver.remote.webelement.WebEleme...</td>\n",
       "    </tr>\n",
       "    <tr>\n",
       "      <th>7</th>\n",
       "      <td>&lt;selenium.webdriver.remote.webelement.WebEleme...</td>\n",
       "      <td>&lt;selenium.webdriver.remote.webelement.WebEleme...</td>\n",
       "      <td>&lt;selenium.webdriver.remote.webelement.WebEleme...</td>\n",
       "    </tr>\n",
       "    <tr>\n",
       "      <th>8</th>\n",
       "      <td>&lt;selenium.webdriver.remote.webelement.WebEleme...</td>\n",
       "      <td>&lt;selenium.webdriver.remote.webelement.WebEleme...</td>\n",
       "      <td>&lt;selenium.webdriver.remote.webelement.WebEleme...</td>\n",
       "    </tr>\n",
       "    <tr>\n",
       "      <th>9</th>\n",
       "      <td>&lt;selenium.webdriver.remote.webelement.WebEleme...</td>\n",
       "      <td>&lt;selenium.webdriver.remote.webelement.WebEleme...</td>\n",
       "      <td>&lt;selenium.webdriver.remote.webelement.WebEleme...</td>\n",
       "    </tr>\n",
       "    <tr>\n",
       "      <th>10</th>\n",
       "      <td>&lt;selenium.webdriver.remote.webelement.WebEleme...</td>\n",
       "      <td>&lt;selenium.webdriver.remote.webelement.WebEleme...</td>\n",
       "      <td>&lt;selenium.webdriver.remote.webelement.WebEleme...</td>\n",
       "    </tr>\n",
       "    <tr>\n",
       "      <th>11</th>\n",
       "      <td>&lt;selenium.webdriver.remote.webelement.WebEleme...</td>\n",
       "      <td>&lt;selenium.webdriver.remote.webelement.WebEleme...</td>\n",
       "      <td>&lt;selenium.webdriver.remote.webelement.WebEleme...</td>\n",
       "    </tr>\n",
       "    <tr>\n",
       "      <th>12</th>\n",
       "      <td>&lt;selenium.webdriver.remote.webelement.WebEleme...</td>\n",
       "      <td>&lt;selenium.webdriver.remote.webelement.WebEleme...</td>\n",
       "      <td>&lt;selenium.webdriver.remote.webelement.WebEleme...</td>\n",
       "    </tr>\n",
       "    <tr>\n",
       "      <th>13</th>\n",
       "      <td>&lt;selenium.webdriver.remote.webelement.WebEleme...</td>\n",
       "      <td>&lt;selenium.webdriver.remote.webelement.WebEleme...</td>\n",
       "      <td>&lt;selenium.webdriver.remote.webelement.WebEleme...</td>\n",
       "    </tr>\n",
       "    <tr>\n",
       "      <th>14</th>\n",
       "      <td>&lt;selenium.webdriver.remote.webelement.WebEleme...</td>\n",
       "      <td>&lt;selenium.webdriver.remote.webelement.WebEleme...</td>\n",
       "      <td>&lt;selenium.webdriver.remote.webelement.WebEleme...</td>\n",
       "    </tr>\n",
       "    <tr>\n",
       "      <th>15</th>\n",
       "      <td>&lt;selenium.webdriver.remote.webelement.WebEleme...</td>\n",
       "      <td>&lt;selenium.webdriver.remote.webelement.WebEleme...</td>\n",
       "      <td>&lt;selenium.webdriver.remote.webelement.WebEleme...</td>\n",
       "    </tr>\n",
       "    <tr>\n",
       "      <th>16</th>\n",
       "      <td>&lt;selenium.webdriver.remote.webelement.WebEleme...</td>\n",
       "      <td>&lt;selenium.webdriver.remote.webelement.WebEleme...</td>\n",
       "      <td>&lt;selenium.webdriver.remote.webelement.WebEleme...</td>\n",
       "    </tr>\n",
       "    <tr>\n",
       "      <th>17</th>\n",
       "      <td>&lt;selenium.webdriver.remote.webelement.WebEleme...</td>\n",
       "      <td>&lt;selenium.webdriver.remote.webelement.WebEleme...</td>\n",
       "      <td>&lt;selenium.webdriver.remote.webelement.WebEleme...</td>\n",
       "    </tr>\n",
       "    <tr>\n",
       "      <th>18</th>\n",
       "      <td>&lt;selenium.webdriver.remote.webelement.WebEleme...</td>\n",
       "      <td>&lt;selenium.webdriver.remote.webelement.WebEleme...</td>\n",
       "      <td>&lt;selenium.webdriver.remote.webelement.WebEleme...</td>\n",
       "    </tr>\n",
       "    <tr>\n",
       "      <th>19</th>\n",
       "      <td>&lt;selenium.webdriver.remote.webelement.WebEleme...</td>\n",
       "      <td>&lt;selenium.webdriver.remote.webelement.WebEleme...</td>\n",
       "      <td>&lt;selenium.webdriver.remote.webelement.WebEleme...</td>\n",
       "    </tr>\n",
       "    <tr>\n",
       "      <th>20</th>\n",
       "      <td>&lt;selenium.webdriver.remote.webelement.WebEleme...</td>\n",
       "      <td>&lt;selenium.webdriver.remote.webelement.WebEleme...</td>\n",
       "      <td>&lt;selenium.webdriver.remote.webelement.WebEleme...</td>\n",
       "    </tr>\n",
       "    <tr>\n",
       "      <th>21</th>\n",
       "      <td>&lt;selenium.webdriver.remote.webelement.WebEleme...</td>\n",
       "      <td>&lt;selenium.webdriver.remote.webelement.WebEleme...</td>\n",
       "      <td>&lt;selenium.webdriver.remote.webelement.WebEleme...</td>\n",
       "    </tr>\n",
       "    <tr>\n",
       "      <th>22</th>\n",
       "      <td>&lt;selenium.webdriver.remote.webelement.WebEleme...</td>\n",
       "      <td>&lt;selenium.webdriver.remote.webelement.WebEleme...</td>\n",
       "      <td>&lt;selenium.webdriver.remote.webelement.WebEleme...</td>\n",
       "    </tr>\n",
       "    <tr>\n",
       "      <th>23</th>\n",
       "      <td>&lt;selenium.webdriver.remote.webelement.WebEleme...</td>\n",
       "      <td>&lt;selenium.webdriver.remote.webelement.WebEleme...</td>\n",
       "      <td>&lt;selenium.webdriver.remote.webelement.WebEleme...</td>\n",
       "    </tr>\n",
       "    <tr>\n",
       "      <th>24</th>\n",
       "      <td>&lt;selenium.webdriver.remote.webelement.WebEleme...</td>\n",
       "      <td>&lt;selenium.webdriver.remote.webelement.WebEleme...</td>\n",
       "      <td>&lt;selenium.webdriver.remote.webelement.WebEleme...</td>\n",
       "    </tr>\n",
       "    <tr>\n",
       "      <th>25</th>\n",
       "      <td>&lt;selenium.webdriver.remote.webelement.WebEleme...</td>\n",
       "      <td>&lt;selenium.webdriver.remote.webelement.WebEleme...</td>\n",
       "      <td>&lt;selenium.webdriver.remote.webelement.WebEleme...</td>\n",
       "    </tr>\n",
       "    <tr>\n",
       "      <th>26</th>\n",
       "      <td>&lt;selenium.webdriver.remote.webelement.WebEleme...</td>\n",
       "      <td>&lt;selenium.webdriver.remote.webelement.WebEleme...</td>\n",
       "      <td>&lt;selenium.webdriver.remote.webelement.WebEleme...</td>\n",
       "    </tr>\n",
       "    <tr>\n",
       "      <th>27</th>\n",
       "      <td>&lt;selenium.webdriver.remote.webelement.WebEleme...</td>\n",
       "      <td>&lt;selenium.webdriver.remote.webelement.WebEleme...</td>\n",
       "      <td>&lt;selenium.webdriver.remote.webelement.WebEleme...</td>\n",
       "    </tr>\n",
       "    <tr>\n",
       "      <th>28</th>\n",
       "      <td>&lt;selenium.webdriver.remote.webelement.WebEleme...</td>\n",
       "      <td>&lt;selenium.webdriver.remote.webelement.WebEleme...</td>\n",
       "      <td>&lt;selenium.webdriver.remote.webelement.WebEleme...</td>\n",
       "    </tr>\n",
       "    <tr>\n",
       "      <th>29</th>\n",
       "      <td>&lt;selenium.webdriver.remote.webelement.WebEleme...</td>\n",
       "      <td>&lt;selenium.webdriver.remote.webelement.WebEleme...</td>\n",
       "      <td>&lt;selenium.webdriver.remote.webelement.WebEleme...</td>\n",
       "    </tr>\n",
       "    <tr>\n",
       "      <th>30</th>\n",
       "      <td>&lt;selenium.webdriver.remote.webelement.WebEleme...</td>\n",
       "      <td>&lt;selenium.webdriver.remote.webelement.WebEleme...</td>\n",
       "      <td>&lt;selenium.webdriver.remote.webelement.WebEleme...</td>\n",
       "    </tr>\n",
       "    <tr>\n",
       "      <th>31</th>\n",
       "      <td>&lt;selenium.webdriver.remote.webelement.WebEleme...</td>\n",
       "      <td>&lt;selenium.webdriver.remote.webelement.WebEleme...</td>\n",
       "      <td>&lt;selenium.webdriver.remote.webelement.WebEleme...</td>\n",
       "    </tr>\n",
       "    <tr>\n",
       "      <th>32</th>\n",
       "      <td>&lt;selenium.webdriver.remote.webelement.WebEleme...</td>\n",
       "      <td>&lt;selenium.webdriver.remote.webelement.WebEleme...</td>\n",
       "      <td>&lt;selenium.webdriver.remote.webelement.WebEleme...</td>\n",
       "    </tr>\n",
       "    <tr>\n",
       "      <th>33</th>\n",
       "      <td>&lt;selenium.webdriver.remote.webelement.WebEleme...</td>\n",
       "      <td>&lt;selenium.webdriver.remote.webelement.WebEleme...</td>\n",
       "      <td>&lt;selenium.webdriver.remote.webelement.WebEleme...</td>\n",
       "    </tr>\n",
       "    <tr>\n",
       "      <th>34</th>\n",
       "      <td>&lt;selenium.webdriver.remote.webelement.WebEleme...</td>\n",
       "      <td>&lt;selenium.webdriver.remote.webelement.WebEleme...</td>\n",
       "      <td>&lt;selenium.webdriver.remote.webelement.WebEleme...</td>\n",
       "    </tr>\n",
       "    <tr>\n",
       "      <th>35</th>\n",
       "      <td>&lt;selenium.webdriver.remote.webelement.WebEleme...</td>\n",
       "      <td>&lt;selenium.webdriver.remote.webelement.WebEleme...</td>\n",
       "      <td>&lt;selenium.webdriver.remote.webelement.WebEleme...</td>\n",
       "    </tr>\n",
       "    <tr>\n",
       "      <th>36</th>\n",
       "      <td>&lt;selenium.webdriver.remote.webelement.WebEleme...</td>\n",
       "      <td>&lt;selenium.webdriver.remote.webelement.WebEleme...</td>\n",
       "      <td>&lt;selenium.webdriver.remote.webelement.WebEleme...</td>\n",
       "    </tr>\n",
       "    <tr>\n",
       "      <th>37</th>\n",
       "      <td>&lt;selenium.webdriver.remote.webelement.WebEleme...</td>\n",
       "      <td>&lt;selenium.webdriver.remote.webelement.WebEleme...</td>\n",
       "      <td>&lt;selenium.webdriver.remote.webelement.WebEleme...</td>\n",
       "    </tr>\n",
       "    <tr>\n",
       "      <th>38</th>\n",
       "      <td>&lt;selenium.webdriver.remote.webelement.WebEleme...</td>\n",
       "      <td>&lt;selenium.webdriver.remote.webelement.WebEleme...</td>\n",
       "      <td>&lt;selenium.webdriver.remote.webelement.WebEleme...</td>\n",
       "    </tr>\n",
       "    <tr>\n",
       "      <th>39</th>\n",
       "      <td>&lt;selenium.webdriver.remote.webelement.WebEleme...</td>\n",
       "      <td>&lt;selenium.webdriver.remote.webelement.WebEleme...</td>\n",
       "      <td>&lt;selenium.webdriver.remote.webelement.WebEleme...</td>\n",
       "    </tr>\n",
       "  </tbody>\n",
       "</table>\n",
       "</div>"
      ],
      "text/plain": [
       "                                                Brand  \\\n",
       "0   <selenium.webdriver.remote.webelement.WebEleme...   \n",
       "1   <selenium.webdriver.remote.webelement.WebEleme...   \n",
       "2   <selenium.webdriver.remote.webelement.WebEleme...   \n",
       "3   <selenium.webdriver.remote.webelement.WebEleme...   \n",
       "4   <selenium.webdriver.remote.webelement.WebEleme...   \n",
       "5   <selenium.webdriver.remote.webelement.WebEleme...   \n",
       "6   <selenium.webdriver.remote.webelement.WebEleme...   \n",
       "7   <selenium.webdriver.remote.webelement.WebEleme...   \n",
       "8   <selenium.webdriver.remote.webelement.WebEleme...   \n",
       "9   <selenium.webdriver.remote.webelement.WebEleme...   \n",
       "10  <selenium.webdriver.remote.webelement.WebEleme...   \n",
       "11  <selenium.webdriver.remote.webelement.WebEleme...   \n",
       "12  <selenium.webdriver.remote.webelement.WebEleme...   \n",
       "13  <selenium.webdriver.remote.webelement.WebEleme...   \n",
       "14  <selenium.webdriver.remote.webelement.WebEleme...   \n",
       "15  <selenium.webdriver.remote.webelement.WebEleme...   \n",
       "16  <selenium.webdriver.remote.webelement.WebEleme...   \n",
       "17  <selenium.webdriver.remote.webelement.WebEleme...   \n",
       "18  <selenium.webdriver.remote.webelement.WebEleme...   \n",
       "19  <selenium.webdriver.remote.webelement.WebEleme...   \n",
       "20  <selenium.webdriver.remote.webelement.WebEleme...   \n",
       "21  <selenium.webdriver.remote.webelement.WebEleme...   \n",
       "22  <selenium.webdriver.remote.webelement.WebEleme...   \n",
       "23  <selenium.webdriver.remote.webelement.WebEleme...   \n",
       "24  <selenium.webdriver.remote.webelement.WebEleme...   \n",
       "25  <selenium.webdriver.remote.webelement.WebEleme...   \n",
       "26  <selenium.webdriver.remote.webelement.WebEleme...   \n",
       "27  <selenium.webdriver.remote.webelement.WebEleme...   \n",
       "28  <selenium.webdriver.remote.webelement.WebEleme...   \n",
       "29  <selenium.webdriver.remote.webelement.WebEleme...   \n",
       "30  <selenium.webdriver.remote.webelement.WebEleme...   \n",
       "31  <selenium.webdriver.remote.webelement.WebEleme...   \n",
       "32  <selenium.webdriver.remote.webelement.WebEleme...   \n",
       "33  <selenium.webdriver.remote.webelement.WebEleme...   \n",
       "34  <selenium.webdriver.remote.webelement.WebEleme...   \n",
       "35  <selenium.webdriver.remote.webelement.WebEleme...   \n",
       "36  <selenium.webdriver.remote.webelement.WebEleme...   \n",
       "37  <selenium.webdriver.remote.webelement.WebEleme...   \n",
       "38  <selenium.webdriver.remote.webelement.WebEleme...   \n",
       "39  <selenium.webdriver.remote.webelement.WebEleme...   \n",
       "\n",
       "                                                Price  \\\n",
       "0   <selenium.webdriver.remote.webelement.WebEleme...   \n",
       "1   <selenium.webdriver.remote.webelement.WebEleme...   \n",
       "2   <selenium.webdriver.remote.webelement.WebEleme...   \n",
       "3   <selenium.webdriver.remote.webelement.WebEleme...   \n",
       "4   <selenium.webdriver.remote.webelement.WebEleme...   \n",
       "5   <selenium.webdriver.remote.webelement.WebEleme...   \n",
       "6   <selenium.webdriver.remote.webelement.WebEleme...   \n",
       "7   <selenium.webdriver.remote.webelement.WebEleme...   \n",
       "8   <selenium.webdriver.remote.webelement.WebEleme...   \n",
       "9   <selenium.webdriver.remote.webelement.WebEleme...   \n",
       "10  <selenium.webdriver.remote.webelement.WebEleme...   \n",
       "11  <selenium.webdriver.remote.webelement.WebEleme...   \n",
       "12  <selenium.webdriver.remote.webelement.WebEleme...   \n",
       "13  <selenium.webdriver.remote.webelement.WebEleme...   \n",
       "14  <selenium.webdriver.remote.webelement.WebEleme...   \n",
       "15  <selenium.webdriver.remote.webelement.WebEleme...   \n",
       "16  <selenium.webdriver.remote.webelement.WebEleme...   \n",
       "17  <selenium.webdriver.remote.webelement.WebEleme...   \n",
       "18  <selenium.webdriver.remote.webelement.WebEleme...   \n",
       "19  <selenium.webdriver.remote.webelement.WebEleme...   \n",
       "20  <selenium.webdriver.remote.webelement.WebEleme...   \n",
       "21  <selenium.webdriver.remote.webelement.WebEleme...   \n",
       "22  <selenium.webdriver.remote.webelement.WebEleme...   \n",
       "23  <selenium.webdriver.remote.webelement.WebEleme...   \n",
       "24  <selenium.webdriver.remote.webelement.WebEleme...   \n",
       "25  <selenium.webdriver.remote.webelement.WebEleme...   \n",
       "26  <selenium.webdriver.remote.webelement.WebEleme...   \n",
       "27  <selenium.webdriver.remote.webelement.WebEleme...   \n",
       "28  <selenium.webdriver.remote.webelement.WebEleme...   \n",
       "29  <selenium.webdriver.remote.webelement.WebEleme...   \n",
       "30  <selenium.webdriver.remote.webelement.WebEleme...   \n",
       "31  <selenium.webdriver.remote.webelement.WebEleme...   \n",
       "32  <selenium.webdriver.remote.webelement.WebEleme...   \n",
       "33  <selenium.webdriver.remote.webelement.WebEleme...   \n",
       "34  <selenium.webdriver.remote.webelement.WebEleme...   \n",
       "35  <selenium.webdriver.remote.webelement.WebEleme...   \n",
       "36  <selenium.webdriver.remote.webelement.WebEleme...   \n",
       "37  <selenium.webdriver.remote.webelement.WebEleme...   \n",
       "38  <selenium.webdriver.remote.webelement.WebEleme...   \n",
       "39  <selenium.webdriver.remote.webelement.WebEleme...   \n",
       "\n",
       "                                          Description  \n",
       "0   <selenium.webdriver.remote.webelement.WebEleme...  \n",
       "1   <selenium.webdriver.remote.webelement.WebEleme...  \n",
       "2   <selenium.webdriver.remote.webelement.WebEleme...  \n",
       "3   <selenium.webdriver.remote.webelement.WebEleme...  \n",
       "4   <selenium.webdriver.remote.webelement.WebEleme...  \n",
       "5   <selenium.webdriver.remote.webelement.WebEleme...  \n",
       "6   <selenium.webdriver.remote.webelement.WebEleme...  \n",
       "7   <selenium.webdriver.remote.webelement.WebEleme...  \n",
       "8   <selenium.webdriver.remote.webelement.WebEleme...  \n",
       "9   <selenium.webdriver.remote.webelement.WebEleme...  \n",
       "10  <selenium.webdriver.remote.webelement.WebEleme...  \n",
       "11  <selenium.webdriver.remote.webelement.WebEleme...  \n",
       "12  <selenium.webdriver.remote.webelement.WebEleme...  \n",
       "13  <selenium.webdriver.remote.webelement.WebEleme...  \n",
       "14  <selenium.webdriver.remote.webelement.WebEleme...  \n",
       "15  <selenium.webdriver.remote.webelement.WebEleme...  \n",
       "16  <selenium.webdriver.remote.webelement.WebEleme...  \n",
       "17  <selenium.webdriver.remote.webelement.WebEleme...  \n",
       "18  <selenium.webdriver.remote.webelement.WebEleme...  \n",
       "19  <selenium.webdriver.remote.webelement.WebEleme...  \n",
       "20  <selenium.webdriver.remote.webelement.WebEleme...  \n",
       "21  <selenium.webdriver.remote.webelement.WebEleme...  \n",
       "22  <selenium.webdriver.remote.webelement.WebEleme...  \n",
       "23  <selenium.webdriver.remote.webelement.WebEleme...  \n",
       "24  <selenium.webdriver.remote.webelement.WebEleme...  \n",
       "25  <selenium.webdriver.remote.webelement.WebEleme...  \n",
       "26  <selenium.webdriver.remote.webelement.WebEleme...  \n",
       "27  <selenium.webdriver.remote.webelement.WebEleme...  \n",
       "28  <selenium.webdriver.remote.webelement.WebEleme...  \n",
       "29  <selenium.webdriver.remote.webelement.WebEleme...  \n",
       "30  <selenium.webdriver.remote.webelement.WebEleme...  \n",
       "31  <selenium.webdriver.remote.webelement.WebEleme...  \n",
       "32  <selenium.webdriver.remote.webelement.WebEleme...  \n",
       "33  <selenium.webdriver.remote.webelement.WebEleme...  \n",
       "34  <selenium.webdriver.remote.webelement.WebEleme...  \n",
       "35  <selenium.webdriver.remote.webelement.WebEleme...  \n",
       "36  <selenium.webdriver.remote.webelement.WebEleme...  \n",
       "37  <selenium.webdriver.remote.webelement.WebEleme...  \n",
       "38  <selenium.webdriver.remote.webelement.WebEleme...  \n",
       "39  <selenium.webdriver.remote.webelement.WebEleme...  "
      ]
     },
     "execution_count": 174,
     "metadata": {},
     "output_type": "execute_result"
    }
   ],
   "source": [
    "Glasses =pd.DataFrame({})\n",
    "Glasses['Brand']=brand\n",
    "Glasses['Price']=price\n",
    "Glasses['Description']=description\n",
    "\n",
    "Glasses.head(100)\n"
   ]
  },
  {
   "cell_type": "markdown",
   "metadata": {},
   "source": [
    "# Task no7"
   ]
  },
  {
   "cell_type": "code",
   "execution_count": null,
   "metadata": {},
   "outputs": [],
   "source": [
    "#lets first connect to the webdriver\n",
    "driver=webdriver.Chrome(r\"C:\\Users\\HP\\Downloads\\chromedriver_win32\\chromedriver.exe\")"
   ]
  },
  {
   "cell_type": "code",
   "execution_count": null,
   "metadata": {},
   "outputs": [],
   "source": [
    "url='https://www.flipkart.com/apple-iphone-11-black-64-gb/product-reviews/itm4e5041ba101fd?pid=MOBFWQ6BXGJCEYNY&lid=LSTMOBFWQ6BXGJCEYNYZXSHRJ&marketplace=FLIPKART'\n",
    "driver.get(url)"
   ]
  },
  {
   "cell_type": "code",
   "execution_count": null,
   "metadata": {},
   "outputs": [],
   "source": [
    "rating=driver.find_elements_by_xpath(\"//div[@class='_2WkVRV']\") \n"
   ]
  },
  {
   "cell_type": "markdown",
   "metadata": {},
   "source": [
    "# Task no.10"
   ]
  },
  {
   "cell_type": "code",
   "execution_count": 122,
   "metadata": {},
   "outputs": [],
   "source": [
    "#lets first connect to the webdriver\n",
    "driver=webdriver.Chrome(r\"C:\\Users\\HP\\Downloads\\chromedriver_win32\\chromedriver.exe\")"
   ]
  },
  {
   "cell_type": "code",
   "execution_count": 123,
   "metadata": {},
   "outputs": [],
   "source": [
    "url='https://www.amazon.in/'\n",
    "driver.get(url)"
   ]
  },
  {
   "cell_type": "code",
   "execution_count": null,
   "metadata": {},
   "outputs": [],
   "source": [
    "search=driver.find_element_by_id(\"twotabsearchtextbox\")\n",
    "search"
   ]
  },
  {
   "cell_type": "code",
   "execution_count": null,
   "metadata": {},
   "outputs": [],
   "source": [
    "search.send_keys(\"Laptop\")"
   ]
  },
  {
   "cell_type": "code",
   "execution_count": null,
   "metadata": {},
   "outputs": [],
   "source": [
    "search_btn=driver.find_element_by_xpath(\"//*[@id='nav-search-bar-form']/div[3]/div\")\n",
    "search_btn.click()"
   ]
  },
  {
   "cell_type": "code",
   "execution_count": null,
   "metadata": {},
   "outputs": [],
   "source": [
    "#Now we have to use filter\n",
    "intel5=driver.find_element_by_xpath(\"//span[text()='Intel Core i5']\").click()\n",
    "intel7=driver.find_element_by_xpath(\"//span[text()='Intel Core i7']\").click()"
   ]
  },
  {
   "cell_type": "code",
   "execution_count": 127,
   "metadata": {},
   "outputs": [
    {
     "data": {
      "text/plain": [
       "[<selenium.webdriver.remote.webelement.WebElement (session=\"1db715a3b949614c76d08dd58e742a55\", element=\"69ff98c5-5fdb-4d9e-9cc3-2ab2c4c3d6d1\")>,\n",
       " <selenium.webdriver.remote.webelement.WebElement (session=\"1db715a3b949614c76d08dd58e742a55\", element=\"9f0a0b81-030b-428d-af96-64b706dd133b\")>,\n",
       " <selenium.webdriver.remote.webelement.WebElement (session=\"1db715a3b949614c76d08dd58e742a55\", element=\"d2f7a0c8-ccf7-4850-943d-d7e49e7f6491\")>,\n",
       " <selenium.webdriver.remote.webelement.WebElement (session=\"1db715a3b949614c76d08dd58e742a55\", element=\"e8fed0e2-d76c-4416-b93f-ce327ce4e44e\")>,\n",
       " <selenium.webdriver.remote.webelement.WebElement (session=\"1db715a3b949614c76d08dd58e742a55\", element=\"93f61dbb-0728-4254-97d5-6c4a190000f3\")>,\n",
       " <selenium.webdriver.remote.webelement.WebElement (session=\"1db715a3b949614c76d08dd58e742a55\", element=\"18a20781-f15c-4461-a9d2-6191c98f7536\")>,\n",
       " <selenium.webdriver.remote.webelement.WebElement (session=\"1db715a3b949614c76d08dd58e742a55\", element=\"88b64389-72ce-4e2b-bf23-6aed81c1a131\")>,\n",
       " <selenium.webdriver.remote.webelement.WebElement (session=\"1db715a3b949614c76d08dd58e742a55\", element=\"8e14241c-3558-4fe3-972f-cdc6c5c0f6ca\")>,\n",
       " <selenium.webdriver.remote.webelement.WebElement (session=\"1db715a3b949614c76d08dd58e742a55\", element=\"c25d6689-2a08-43d6-bd6d-f3a5294e80dc\")>,\n",
       " <selenium.webdriver.remote.webelement.WebElement (session=\"1db715a3b949614c76d08dd58e742a55\", element=\"6c4db108-8030-4f55-b839-c452cfbd5bf3\")>,\n",
       " <selenium.webdriver.remote.webelement.WebElement (session=\"1db715a3b949614c76d08dd58e742a55\", element=\"b8f70077-12d0-4fcf-8a53-533e2e03bb7e\")>,\n",
       " <selenium.webdriver.remote.webelement.WebElement (session=\"1db715a3b949614c76d08dd58e742a55\", element=\"15b6c741-9c09-4f97-b8e4-f6446c8ce7b2\")>,\n",
       " <selenium.webdriver.remote.webelement.WebElement (session=\"1db715a3b949614c76d08dd58e742a55\", element=\"62c349ae-1084-4045-b748-7fca3f9b5fe3\")>,\n",
       " <selenium.webdriver.remote.webelement.WebElement (session=\"1db715a3b949614c76d08dd58e742a55\", element=\"f868c90e-086e-4693-9c48-67c1970af02a\")>,\n",
       " <selenium.webdriver.remote.webelement.WebElement (session=\"1db715a3b949614c76d08dd58e742a55\", element=\"34d698a4-9ff5-4cc7-9283-5e5e1416946f\")>,\n",
       " <selenium.webdriver.remote.webelement.WebElement (session=\"1db715a3b949614c76d08dd58e742a55\", element=\"2109d248-09a0-49c9-b7af-c7ea5f6c232b\")>,\n",
       " <selenium.webdriver.remote.webelement.WebElement (session=\"1db715a3b949614c76d08dd58e742a55\", element=\"68fb7d66-b21f-4312-adfc-44549c6b45a0\")>,\n",
       " <selenium.webdriver.remote.webelement.WebElement (session=\"1db715a3b949614c76d08dd58e742a55\", element=\"b6d44fb4-e7cd-4740-9ed0-7c9109e13e76\")>,\n",
       " <selenium.webdriver.remote.webelement.WebElement (session=\"1db715a3b949614c76d08dd58e742a55\", element=\"a7fc40d7-387b-426e-8a62-c88ac9fecc25\")>,\n",
       " <selenium.webdriver.remote.webelement.WebElement (session=\"1db715a3b949614c76d08dd58e742a55\", element=\"270fb9ae-0103-486f-8c47-c11a605242e6\")>,\n",
       " <selenium.webdriver.remote.webelement.WebElement (session=\"1db715a3b949614c76d08dd58e742a55\", element=\"1be6dd4d-1f05-4877-9170-440156f1570b\")>,\n",
       " <selenium.webdriver.remote.webelement.WebElement (session=\"1db715a3b949614c76d08dd58e742a55\", element=\"225049a3-00fa-45eb-b812-c0b46dfe8139\")>,\n",
       " <selenium.webdriver.remote.webelement.WebElement (session=\"1db715a3b949614c76d08dd58e742a55\", element=\"6876d6b1-c6d5-4e0b-b1d7-169410d02dbf\")>,\n",
       " <selenium.webdriver.remote.webelement.WebElement (session=\"1db715a3b949614c76d08dd58e742a55\", element=\"bd6d6ab1-c1ba-4519-b72a-2e7416be5481\")>,\n",
       " <selenium.webdriver.remote.webelement.WebElement (session=\"1db715a3b949614c76d08dd58e742a55\", element=\"264822eb-59a4-4e4e-8510-10c8a6a494e3\")>,\n",
       " <selenium.webdriver.remote.webelement.WebElement (session=\"1db715a3b949614c76d08dd58e742a55\", element=\"42eb8fe6-2d6f-4b28-892d-c8ddf9ce3182\")>,\n",
       " <selenium.webdriver.remote.webelement.WebElement (session=\"1db715a3b949614c76d08dd58e742a55\", element=\"46168693-77ed-4592-9e60-07c95db00bd2\")>,\n",
       " <selenium.webdriver.remote.webelement.WebElement (session=\"1db715a3b949614c76d08dd58e742a55\", element=\"d348e4f7-99a7-450f-94b7-43962e9e6c2d\")>,\n",
       " <selenium.webdriver.remote.webelement.WebElement (session=\"1db715a3b949614c76d08dd58e742a55\", element=\"bc014380-d254-40d2-b7f9-b5f606dfa585\")>,\n",
       " <selenium.webdriver.remote.webelement.WebElement (session=\"1db715a3b949614c76d08dd58e742a55\", element=\"c345b505-909e-49ae-b46b-1b639e842853\")>]"
      ]
     },
     "execution_count": 127,
     "metadata": {},
     "output_type": "execute_result"
    }
   ],
   "source": [
    "# lets scrap the tags having job titles\n",
    "title=driver.find_elements_by_xpath(\"//h2[@class='a-size-mini a-spacing-none a-color-base s-line-clamp-2']\")\n",
    "title"
   ]
  },
  {
   "cell_type": "code",
   "execution_count": 142,
   "metadata": {},
   "outputs": [
    {
     "data": {
      "text/plain": [
       "['HP 14 Ultra Thin & Light 14\" (35.56cms) Laptop (10th Gen i3-1005G1/8GB/256GB SSD/Win 10 Home/MS Office/1.47 Kg/Jet Black), 14s-cf3074TU',\n",
       " 'HP 15 (2021) Thin & Light 11th Gen Core i5 Laptop, 8 GB RAM, 512GB SSD, 15.6-inch (39.62 cms) FHD Screen, Windows 10, MS Office, Built-in Alexa (15s-fq2535TU)',\n",
       " 'HP Pavilion (2021) 11th Gen Core i5 Laptop, 16 GB RAM, 2GB NVIDIA Graphics, 512GB SSD, 15.6\"(39.62cms) FHD Screen, Windows 10, MS Office, Finger Print Reader, Alexa Built-in (15-eg0103TX)',\n",
       " 'Acer Swift 3 SF314-52 14-inch Laptop (Intel Core i5-8250U/4GB/256GB/Windows 10 Home Single Language/Integrated Graphics), Stellar Blue',\n",
       " 'Lenovo V14 Intel Core i5 10th Gen 14\" (35.56cms) Full HD Thin and Light Laptop (8GB RAM/ 256GB SSD/ Windows 10 Home/ Grey/ 1.6 kg), 82C4015VIH',\n",
       " 'HP 14 11th Gen Intel Core i5 Processor 14-inch(35.6 cm) HD Laptop (8GB/512GB SSD/Windows 10/MS Office/Natural Silver/1.46Kg), 14s-dq2535TU',\n",
       " 'MI Notebook 14 (IC) Intel Core i5-10210U 10th Gen 14-inch (35.56 cms) Thin and Light Laptop(8GB/512GB SSD/Windows 10/Intel UHD Graphics/Silver/1.5Kg), XMA1901-FK',\n",
       " 'Lenovo Legion Y540 9th Gen Intel Core i5 15.6-inch (39.62 cms) Full HD Gaming Laptop (8GB/512GB SSD/Windows 10/60 Hz/NVIDIA GTX 1650 4GB GDDR5 Graphics/Raven Black/2.3Kg), 81SY00U6IN',\n",
       " '(Renewed) Dell Latitude E5440 14-Inch Laptop (Core i5 4th Gen/8GB RAM (Upgradable to 16)/500GB HDD/Windows 10 Pro/MS Office 2019/More than 4 GB Intel Integrated Graphics), Black',\n",
       " '(Renewed) Dell Latitude E5440 14-Inch Laptop (Core i5 4th Gen/16GB RAM/256GB SSD/Windows 10 Pro/MS Office 2019/More than 4 GB Intel Integrated Graphics), Black']"
      ]
     },
     "execution_count": 142,
     "metadata": {},
     "output_type": "execute_result"
    }
   ],
   "source": [
    "Titles=[]\n",
    "for i in title[:10]:\n",
    "    Titles.append(i.text)\n",
    "Titles"
   ]
  },
  {
   "cell_type": "code",
   "execution_count": 134,
   "metadata": {},
   "outputs": [
    {
     "data": {
      "text/plain": [
       "[<selenium.webdriver.remote.webelement.WebElement (session=\"1db715a3b949614c76d08dd58e742a55\", element=\"c113d2ca-cb21-456d-acaa-863db1da4f48\")>,\n",
       " <selenium.webdriver.remote.webelement.WebElement (session=\"1db715a3b949614c76d08dd58e742a55\", element=\"22adb639-6ba1-473a-a057-5f6dbb61dcc2\")>,\n",
       " <selenium.webdriver.remote.webelement.WebElement (session=\"1db715a3b949614c76d08dd58e742a55\", element=\"69962b67-2f64-4e29-8151-6502d0c4ce8d\")>,\n",
       " <selenium.webdriver.remote.webelement.WebElement (session=\"1db715a3b949614c76d08dd58e742a55\", element=\"27da1cb0-65cb-4bd8-8310-08650cb42c43\")>,\n",
       " <selenium.webdriver.remote.webelement.WebElement (session=\"1db715a3b949614c76d08dd58e742a55\", element=\"da8a7f31-3eb1-41f4-b251-9f60f719245e\")>,\n",
       " <selenium.webdriver.remote.webelement.WebElement (session=\"1db715a3b949614c76d08dd58e742a55\", element=\"680140e3-a213-435b-abfd-b27f80eefa2b\")>,\n",
       " <selenium.webdriver.remote.webelement.WebElement (session=\"1db715a3b949614c76d08dd58e742a55\", element=\"01978d3c-1cb1-44fc-a6df-ab932d006cbf\")>,\n",
       " <selenium.webdriver.remote.webelement.WebElement (session=\"1db715a3b949614c76d08dd58e742a55\", element=\"05c897fc-1049-408a-9486-b83f2d13b02d\")>,\n",
       " <selenium.webdriver.remote.webelement.WebElement (session=\"1db715a3b949614c76d08dd58e742a55\", element=\"d1a74ef3-d17c-4d04-b557-1fbc811abc7b\")>,\n",
       " <selenium.webdriver.remote.webelement.WebElement (session=\"1db715a3b949614c76d08dd58e742a55\", element=\"af641c60-2dc6-47d3-be0d-40d49e080ada\")>,\n",
       " <selenium.webdriver.remote.webelement.WebElement (session=\"1db715a3b949614c76d08dd58e742a55\", element=\"3b3fe967-ba50-4c75-99c8-c518bb53b159\")>,\n",
       " <selenium.webdriver.remote.webelement.WebElement (session=\"1db715a3b949614c76d08dd58e742a55\", element=\"715d1e23-07ec-48c6-ac82-2cb38dc2d09e\")>,\n",
       " <selenium.webdriver.remote.webelement.WebElement (session=\"1db715a3b949614c76d08dd58e742a55\", element=\"6452c2cb-2f13-4353-a286-57119eaee051\")>,\n",
       " <selenium.webdriver.remote.webelement.WebElement (session=\"1db715a3b949614c76d08dd58e742a55\", element=\"2374ea66-6470-49ef-8330-2cb91c346092\")>,\n",
       " <selenium.webdriver.remote.webelement.WebElement (session=\"1db715a3b949614c76d08dd58e742a55\", element=\"80a68f4f-50e2-4747-992f-fe19ab28b93b\")>]"
      ]
     },
     "execution_count": 134,
     "metadata": {},
     "output_type": "execute_result"
    }
   ],
   "source": [
    "ratings=driver.find_elements_by_xpath(\"//span[@class='a-size-base']\")\n",
    "ratings"
   ]
  },
  {
   "cell_type": "code",
   "execution_count": 141,
   "metadata": {},
   "outputs": [
    {
     "data": {
      "text/plain": [
       "['927', '625', '40', '33', '15', '951', '733', '25', '951', '291']"
      ]
     },
     "execution_count": 141,
     "metadata": {},
     "output_type": "execute_result"
    }
   ],
   "source": [
    "Ratings=[]\n",
    "for i in ratings[:10]:\n",
    "    Ratings.append(i.text)\n",
    "Ratings"
   ]
  },
  {
   "cell_type": "code",
   "execution_count": 136,
   "metadata": {},
   "outputs": [
    {
     "data": {
      "text/plain": [
       "[<selenium.webdriver.remote.webelement.WebElement (session=\"1db715a3b949614c76d08dd58e742a55\", element=\"cb52512e-64da-4a11-8975-579886b481ce\")>,\n",
       " <selenium.webdriver.remote.webelement.WebElement (session=\"1db715a3b949614c76d08dd58e742a55\", element=\"638a3233-e9f2-4311-ac85-4bd6d3415b19\")>,\n",
       " <selenium.webdriver.remote.webelement.WebElement (session=\"1db715a3b949614c76d08dd58e742a55\", element=\"dbee642e-e28e-4d70-8892-a0f44f06aa65\")>,\n",
       " <selenium.webdriver.remote.webelement.WebElement (session=\"1db715a3b949614c76d08dd58e742a55\", element=\"1e9d74e2-9c2a-4ec1-8bf7-3318ff83cf72\")>,\n",
       " <selenium.webdriver.remote.webelement.WebElement (session=\"1db715a3b949614c76d08dd58e742a55\", element=\"2fb8eec9-0238-424a-8cf7-c1d1b7b4c73c\")>,\n",
       " <selenium.webdriver.remote.webelement.WebElement (session=\"1db715a3b949614c76d08dd58e742a55\", element=\"fb717128-fa06-4251-8c25-595ada6640d1\")>,\n",
       " <selenium.webdriver.remote.webelement.WebElement (session=\"1db715a3b949614c76d08dd58e742a55\", element=\"6e638f26-94f5-4006-bdd0-2bafe1054076\")>,\n",
       " <selenium.webdriver.remote.webelement.WebElement (session=\"1db715a3b949614c76d08dd58e742a55\", element=\"debbe167-8cb3-4b5a-995d-1a8790321cf5\")>,\n",
       " <selenium.webdriver.remote.webelement.WebElement (session=\"1db715a3b949614c76d08dd58e742a55\", element=\"aa320f43-719e-4dcd-be33-2b18f18a72ac\")>,\n",
       " <selenium.webdriver.remote.webelement.WebElement (session=\"1db715a3b949614c76d08dd58e742a55\", element=\"5ab87dae-ac7f-4d0b-8860-c657a002b159\")>,\n",
       " <selenium.webdriver.remote.webelement.WebElement (session=\"1db715a3b949614c76d08dd58e742a55\", element=\"a87b2062-c438-4726-8f35-0d698cbadef3\")>,\n",
       " <selenium.webdriver.remote.webelement.WebElement (session=\"1db715a3b949614c76d08dd58e742a55\", element=\"f986a0bb-2e3f-43be-b8fd-050736ee6797\")>,\n",
       " <selenium.webdriver.remote.webelement.WebElement (session=\"1db715a3b949614c76d08dd58e742a55\", element=\"10c3e8fa-b4d0-42bb-b16b-5ab8797fb46f\")>,\n",
       " <selenium.webdriver.remote.webelement.WebElement (session=\"1db715a3b949614c76d08dd58e742a55\", element=\"aebca4bc-3fff-4faf-ab55-87371d0bf09e\")>,\n",
       " <selenium.webdriver.remote.webelement.WebElement (session=\"1db715a3b949614c76d08dd58e742a55\", element=\"9eb286b1-3e20-432b-bcc4-2fd42a2a604e\")>,\n",
       " <selenium.webdriver.remote.webelement.WebElement (session=\"1db715a3b949614c76d08dd58e742a55\", element=\"c5ffba1b-bc4f-4309-8241-8f6f6ba44a83\")>,\n",
       " <selenium.webdriver.remote.webelement.WebElement (session=\"1db715a3b949614c76d08dd58e742a55\", element=\"64e4a9f2-fde0-498c-9f41-68a7fb6c688a\")>,\n",
       " <selenium.webdriver.remote.webelement.WebElement (session=\"1db715a3b949614c76d08dd58e742a55\", element=\"73bb80f0-0057-4447-a873-22ba8a57c32a\")>,\n",
       " <selenium.webdriver.remote.webelement.WebElement (session=\"1db715a3b949614c76d08dd58e742a55\", element=\"6cbce8c3-356d-4972-8a37-ae0fa908d756\")>,\n",
       " <selenium.webdriver.remote.webelement.WebElement (session=\"1db715a3b949614c76d08dd58e742a55\", element=\"410b0367-0d8e-438d-aee4-1ac1ff5a5dbe\")>,\n",
       " <selenium.webdriver.remote.webelement.WebElement (session=\"1db715a3b949614c76d08dd58e742a55\", element=\"c9a33c3c-e160-4e99-a5fc-cebdc1306666\")>,\n",
       " <selenium.webdriver.remote.webelement.WebElement (session=\"1db715a3b949614c76d08dd58e742a55\", element=\"7e40ebb7-2dc2-4e92-8e07-a9f76ff2a6d1\")>,\n",
       " <selenium.webdriver.remote.webelement.WebElement (session=\"1db715a3b949614c76d08dd58e742a55\", element=\"22fddfb1-4cbe-407d-8e62-cefd1d7e9e93\")>,\n",
       " <selenium.webdriver.remote.webelement.WebElement (session=\"1db715a3b949614c76d08dd58e742a55\", element=\"c7ba45b3-030b-4edc-be31-687a76144445\")>,\n",
       " <selenium.webdriver.remote.webelement.WebElement (session=\"1db715a3b949614c76d08dd58e742a55\", element=\"e79e25f3-61ec-463c-80ae-87c646ec912e\")>,\n",
       " <selenium.webdriver.remote.webelement.WebElement (session=\"1db715a3b949614c76d08dd58e742a55\", element=\"77d8d81f-f519-4375-a115-e56957d69947\")>]"
      ]
     },
     "execution_count": 136,
     "metadata": {},
     "output_type": "execute_result"
    }
   ],
   "source": [
    "price=driver.find_elements_by_xpath(\"//span[@class='a-price-whole']\")\n",
    "price"
   ]
  },
  {
   "cell_type": "code",
   "execution_count": 140,
   "metadata": {},
   "outputs": [
    {
     "data": {
      "text/plain": [
       "['35,990',\n",
       " '59,710',\n",
       " '70,990',\n",
       " '48,990',\n",
       " '43,490',\n",
       " '54,992',\n",
       " '59,990',\n",
       " '32,999',\n",
       " '36,999',\n",
       " '47,690']"
      ]
     },
     "execution_count": 140,
     "metadata": {},
     "output_type": "execute_result"
    }
   ],
   "source": [
    "Price=[]\n",
    "for i in price[:10]:\n",
    "    Price.append(i.text)\n",
    "Price"
   ]
  },
  {
   "cell_type": "code",
   "execution_count": 143,
   "metadata": {},
   "outputs": [
    {
     "data": {
      "text/html": [
       "<div>\n",
       "<style scoped>\n",
       "    .dataframe tbody tr th:only-of-type {\n",
       "        vertical-align: middle;\n",
       "    }\n",
       "\n",
       "    .dataframe tbody tr th {\n",
       "        vertical-align: top;\n",
       "    }\n",
       "\n",
       "    .dataframe thead th {\n",
       "        text-align: right;\n",
       "    }\n",
       "</style>\n",
       "<table border=\"1\" class=\"dataframe\">\n",
       "  <thead>\n",
       "    <tr style=\"text-align: right;\">\n",
       "      <th></th>\n",
       "      <th>Titles</th>\n",
       "      <th>Ratings</th>\n",
       "      <th>Price</th>\n",
       "    </tr>\n",
       "  </thead>\n",
       "  <tbody>\n",
       "    <tr>\n",
       "      <th>0</th>\n",
       "      <td>HP 14 Ultra Thin &amp; Light 14\" (35.56cms) Laptop...</td>\n",
       "      <td>927</td>\n",
       "      <td>35,990</td>\n",
       "    </tr>\n",
       "    <tr>\n",
       "      <th>1</th>\n",
       "      <td>HP 15 (2021) Thin &amp; Light 11th Gen Core i5 Lap...</td>\n",
       "      <td>625</td>\n",
       "      <td>59,710</td>\n",
       "    </tr>\n",
       "    <tr>\n",
       "      <th>2</th>\n",
       "      <td>HP Pavilion (2021) 11th Gen Core i5 Laptop, 16...</td>\n",
       "      <td>40</td>\n",
       "      <td>70,990</td>\n",
       "    </tr>\n",
       "    <tr>\n",
       "      <th>3</th>\n",
       "      <td>Acer Swift 3 SF314-52 14-inch Laptop (Intel Co...</td>\n",
       "      <td>33</td>\n",
       "      <td>48,990</td>\n",
       "    </tr>\n",
       "    <tr>\n",
       "      <th>4</th>\n",
       "      <td>Lenovo V14 Intel Core i5 10th Gen 14\" (35.56cm...</td>\n",
       "      <td>15</td>\n",
       "      <td>43,490</td>\n",
       "    </tr>\n",
       "    <tr>\n",
       "      <th>5</th>\n",
       "      <td>HP 14 11th Gen Intel Core i5 Processor 14-inch...</td>\n",
       "      <td>951</td>\n",
       "      <td>54,992</td>\n",
       "    </tr>\n",
       "    <tr>\n",
       "      <th>6</th>\n",
       "      <td>MI Notebook 14 (IC) Intel Core i5-10210U 10th ...</td>\n",
       "      <td>733</td>\n",
       "      <td>59,990</td>\n",
       "    </tr>\n",
       "    <tr>\n",
       "      <th>7</th>\n",
       "      <td>Lenovo Legion Y540 9th Gen Intel Core i5 15.6-...</td>\n",
       "      <td>25</td>\n",
       "      <td>32,999</td>\n",
       "    </tr>\n",
       "    <tr>\n",
       "      <th>8</th>\n",
       "      <td>(Renewed) Dell Latitude E5440 14-Inch Laptop (...</td>\n",
       "      <td>951</td>\n",
       "      <td>36,999</td>\n",
       "    </tr>\n",
       "    <tr>\n",
       "      <th>9</th>\n",
       "      <td>(Renewed) Dell Latitude E5440 14-Inch Laptop (...</td>\n",
       "      <td>291</td>\n",
       "      <td>47,690</td>\n",
       "    </tr>\n",
       "  </tbody>\n",
       "</table>\n",
       "</div>"
      ],
      "text/plain": [
       "                                              Titles Ratings   Price\n",
       "0  HP 14 Ultra Thin & Light 14\" (35.56cms) Laptop...     927  35,990\n",
       "1  HP 15 (2021) Thin & Light 11th Gen Core i5 Lap...     625  59,710\n",
       "2  HP Pavilion (2021) 11th Gen Core i5 Laptop, 16...      40  70,990\n",
       "3  Acer Swift 3 SF314-52 14-inch Laptop (Intel Co...      33  48,990\n",
       "4  Lenovo V14 Intel Core i5 10th Gen 14\" (35.56cm...      15  43,490\n",
       "5  HP 14 11th Gen Intel Core i5 Processor 14-inch...     951  54,992\n",
       "6  MI Notebook 14 (IC) Intel Core i5-10210U 10th ...     733  59,990\n",
       "7  Lenovo Legion Y540 9th Gen Intel Core i5 15.6-...      25  32,999\n",
       "8  (Renewed) Dell Latitude E5440 14-Inch Laptop (...     951  36,999\n",
       "9  (Renewed) Dell Latitude E5440 14-Inch Laptop (...     291  47,690"
      ]
     },
     "execution_count": 143,
     "metadata": {},
     "output_type": "execute_result"
    }
   ],
   "source": [
    "Laptop=pd.DataFrame({})\n",
    "Laptop['Titles']=Titles\n",
    "Laptop['Ratings']=Ratings\n",
    "Laptop['Price']=Price\n",
    "Laptop"
   ]
  },
  {
   "cell_type": "code",
   "execution_count": null,
   "metadata": {},
   "outputs": [],
   "source": []
  }
 ],
 "metadata": {
  "kernelspec": {
   "display_name": "Python 3",
   "language": "python",
   "name": "python3"
  },
  "language_info": {
   "codemirror_mode": {
    "name": "ipython",
    "version": 3
   },
   "file_extension": ".py",
   "mimetype": "text/x-python",
   "name": "python",
   "nbconvert_exporter": "python",
   "pygments_lexer": "ipython3",
   "version": "3.8.5"
  }
 },
 "nbformat": 4,
 "nbformat_minor": 4
}
